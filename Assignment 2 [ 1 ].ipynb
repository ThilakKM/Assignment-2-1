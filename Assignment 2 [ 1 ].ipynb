{
 "cells": [
  {
   "cell_type": "markdown",
   "id": "810cae7b",
   "metadata": {},
   "source": [
    "# Sorting a tuple in ascending order#"
   ]
  },
  {
   "cell_type": "code",
   "execution_count": 1,
   "id": "f8093408",
   "metadata": {},
   "outputs": [
    {
     "name": "stdout",
     "output_type": "stream",
     "text": [
      "[(2, 1), (1, 2), (2, 3), (4, 4), (2, 5)]\n"
     ]
    }
   ],
   "source": [
    "l =[(2, 5), (1, 2), (4, 4), (2, 3), (2, 1)]\n",
    "for i in range(0,len(l)-1):\n",
    "    for j in range(0,len(l)-1):\n",
    "        if (l[j][1] > l[j + 1][1]):\n",
    "            mini = l[j]\n",
    "            l[j] = l[j+1]\n",
    "            l[j+1]=mini\n",
    "print(l)"
   ]
  }
 ],
 "metadata": {
  "kernelspec": {
   "display_name": "Python 3 (ipykernel)",
   "language": "python",
   "name": "python3"
  },
  "language_info": {
   "codemirror_mode": {
    "name": "ipython",
    "version": 3
   },
   "file_extension": ".py",
   "mimetype": "text/x-python",
   "name": "python",
   "nbconvert_exporter": "python",
   "pygments_lexer": "ipython3",
   "version": "3.10.2"
  }
 },
 "nbformat": 4,
 "nbformat_minor": 5
}
